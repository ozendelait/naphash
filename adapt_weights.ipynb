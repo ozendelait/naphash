{
 "cells": [
  {
   "cell_type": "code",
   "execution_count": 1,
   "id": "9e982ecd",
   "metadata": {},
   "outputs": [],
   "source": [
    "import gzip\n",
    "import json\n",
    "import glob\n",
    "seekall = '/workspace/data/data/imagenet_fall11/fall11_whole.seekhelper.txt.gz'\n",
    "def load_from_gz(filepath, tar_root_folder=\"\", as_list_style=True):\n",
    "    if as_list_style:\n",
    "        info = []\n",
    "    else:\n",
    "        info = {}\n",
    "    with gzip.open(filepath, 'rb') as f_in:\n",
    "        for line in f_in:\n",
    "            if as_list_style:\n",
    "                info.append(tar_root_folder+line.decode('ascii'))\n",
    "            else:\n",
    "                l_sp = line.decode('ascii').split(':')\n",
    "                info[l_sp[0]] = [int(l_sp[1]),int(l_sp[2])]\n",
    "    return info\n",
    "\n",
    "def load_from_seekhelper(dir0):\n",
    "    if not dir0[-1] == '/':\n",
    "        dir0+='/'\n",
    "    return [dir0+p for p in load_from_gz(dir0+'.seekhelper.txt.gz')]\n",
    "imgnet_alt_paths = load_from_seekhelper('/workspace/data/data/imagenet_alt/')\n",
    "fashionpedia_paths = load_from_seekhelper('/workspace/data/data/fashionpedia/')\n",
    "inat2019_paths = load_from_seekhelper('/workspace/data/inat2019/')\n",
    "places365_paths = load_from_seekhelper('/workspace/data/places365/')\n",
    "celeba_paths = load_from_seekhelper('/workspace/data/celeba/jpg256')\n",
    "\n",
    "imgnet_root='/workspace/data/data/imagenet_fall11/'\n",
    "imgnet_paths = load_from_seekhelper(imgnet_root)\n",
    "coco_inp_dir = '/workspace/data/data/coco/images/train2017'\n",
    "coco_paths = sorted(glob.glob(coco_inp_dir+'/*.jpg'))"
   ]
  },
  {
   "cell_type": "code",
   "execution_count": 18,
   "id": "590e95d6",
   "metadata": {},
   "outputs": [],
   "source": [
    "import random\n",
    "imgnet_paths1 = imgnet_paths[:]\n",
    "random.shuffle(imgnet_paths1)\n",
    "inat2019_paths1 = inat2019_paths[:]\n",
    "random.shuffle(inat2019_paths1)\n",
    "train_paths = [celeba_paths, coco_paths, imgnet_alt_paths, fashionpedia_paths, inat2019_paths1[:len(coco_paths)], places365_paths, imgnet_paths1[:len(coco_paths)]]\n",
    "all_p = []\n",
    "for t in train_paths:\n",
    "    all_p += t\n",
    "random.shuffle(all_p)"
   ]
  },
  {
   "cell_type": "code",
   "execution_count": 19,
   "id": "f7b54fef",
   "metadata": {},
   "outputs": [
    {
     "name": "stdout",
     "output_type": "stream",
     "text": [
      "[70000, 118287, 53542, 48823, 118287, 36500, 118287]\n"
     ]
    }
   ],
   "source": [
    "print([len(p) for p in train_paths])"
   ]
  },
  {
   "cell_type": "code",
   "execution_count": 20,
   "id": "f398d32c",
   "metadata": {},
   "outputs": [],
   "source": [
    "with open('training_paths.txt', 'wt') as f_out:\n",
    "    for p in all_p:\n",
    "        f_out.write(p+\"\\n\")"
   ]
  },
  {
   "cell_type": "code",
   "execution_count": 23,
   "id": "69f42b55",
   "metadata": {},
   "outputs": [
    {
     "name": "stdout",
     "output_type": "stream",
     "text": [
      "Reading package lists... Done\n",
      "Building dependency tree       \n",
      "Reading state information... Done\n",
      "The following additional packages will be installed:\n",
      "  unzip\n",
      "The following NEW packages will be installed:\n",
      "  unzip zip\n",
      "0 upgraded, 2 newly installed, 0 to remove and 90 not upgraded.\n",
      "Need to get 335 kB of archives.\n",
      "After this operation, 1205 kB of additional disk space will be used.\n",
      "Get:1 http://archive.ubuntu.com/ubuntu bionic-updates/main amd64 unzip amd64 6.0-21ubuntu1.1 [168 kB]\n",
      "Get:2 http://archive.ubuntu.com/ubuntu bionic/main amd64 zip amd64 3.0-11build1 [167 kB]\n",
      "Fetched 335 kB in 0s (1705 kB/s)\n",
      "debconf: delaying package configuration, since apt-utils is not installed\n",
      "Selecting previously unselected package unzip.\n",
      "(Reading database ... 19848 files and directories currently installed.)\n",
      "Preparing to unpack .../unzip_6.0-21ubuntu1.1_amd64.deb ...\n",
      "Unpacking unzip (6.0-21ubuntu1.1) ...\n",
      "Selecting previously unselected package zip.\n",
      "Preparing to unpack .../zip_3.0-11build1_amd64.deb ...\n",
      "Unpacking zip (3.0-11build1) ...\n",
      "Setting up unzip (6.0-21ubuntu1.1) ...\n",
      "Setting up zip (3.0-11build1) ...\n",
      "Processing triggers for mime-support (3.60ubuntu1) ...\n",
      "  adding: training_paths.txt (deflated 76%)\n"
     ]
    }
   ],
   "source": [
    "!apt-get install -y zip\n",
    "!zip training_paths.zip training_paths.txt"
   ]
  },
  {
   "cell_type": "code",
   "execution_count": 24,
   "id": "d790cfd8",
   "metadata": {},
   "outputs": [],
   "source": [
    "!gzip training_paths.txt"
   ]
  },
  {
   "cell_type": "code",
   "execution_count": null,
   "id": "e8e0992d",
   "metadata": {},
   "outputs": [],
   "source": []
  }
 ],
 "metadata": {
  "kernelspec": {
   "display_name": "Python 3",
   "language": "python",
   "name": "python3"
  },
  "language_info": {
   "codemirror_mode": {
    "name": "ipython",
    "version": 3
   },
   "file_extension": ".py",
   "mimetype": "text/x-python",
   "name": "python",
   "nbconvert_exporter": "python",
   "pygments_lexer": "ipython3",
   "version": "3.7.7"
  }
 },
 "nbformat": 4,
 "nbformat_minor": 5
}
