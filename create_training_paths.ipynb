{
 "cells": [
  {
   "cell_type": "code",
   "execution_count": 2,
   "id": "9e982ecd",
   "metadata": {},
   "outputs": [],
   "source": [
    "import gzip\n",
    "import json\n",
    "import glob\n",
    "seekall = '/workspace/data/data/imagenet_fall11/fall11_whole.seekhelper.txt.gz'\n",
    "def load_from_gz(filepath, tar_root_folder=\"\", as_list_style=True):\n",
    "    if as_list_style:\n",
    "        info = []\n",
    "    else:\n",
    "        info = {}\n",
    "    with gzip.open(filepath, 'rb') as f_in:\n",
    "        for line in f_in:\n",
    "            if as_list_style:\n",
    "                info.append(tar_root_folder+line.decode('ascii'))\n",
    "            else:\n",
    "                l_sp = line.decode('ascii').split(':')\n",
    "                info[l_sp[0]] = [int(l_sp[1]),int(l_sp[2])]\n",
    "    return info\n",
    "\n",
    "def load_from_seekhelper(dir0):\n",
    "    if not dir0[-1] == '/':\n",
    "        dir0+='/'\n",
    "    return [dir0+p for p in load_from_gz(dir0+'.seekhelper.txt.gz')]\n",
    "imgnet_alt_paths = load_from_seekhelper('/workspace/data/data/imagenet_alt/')\n",
    "fashionpedia_paths = load_from_seekhelper('/workspace/data/data/fashionpedia/')\n",
    "inat2019_paths = load_from_seekhelper('/workspace/data/inat2019/')\n",
    "places365_paths = load_from_seekhelper('/workspace/data/places365/')\n",
    "celeba_paths = load_from_seekhelper('/workspace/data/celeba/jpg256')\n",
    "\n",
    "imgnet_root='/workspace/data/data/imagenet_fall11/'\n",
    "imgnet_paths = load_from_seekhelper(imgnet_root)\n",
    "coco_inp_dir = '/workspace/data/data/coco/images/train2017'\n",
    "coco_paths = sorted(glob.glob(coco_inp_dir+'/*.jpg'))"
   ]
  },
  {
   "cell_type": "code",
   "execution_count": 3,
   "id": "590e95d6",
   "metadata": {},
   "outputs": [],
   "source": [
    "import random\n",
    "imgnet_paths1 = imgnet_paths[:]\n",
    "random.shuffle(imgnet_paths1)\n",
    "inat2019_paths1 = inat2019_paths[:]\n",
    "random.shuffle(inat2019_paths1)\n",
    "train_paths = [celeba_paths, coco_paths, imgnet_alt_paths, fashionpedia_paths, inat2019_paths1[:len(coco_paths)], places365_paths, imgnet_paths1[:len(coco_paths)]]\n",
    "all_p = []\n",
    "for t in train_paths:\n",
    "    all_p += t\n",
    "random.shuffle(all_p)"
   ]
  },
  {
   "cell_type": "code",
   "execution_count": 4,
   "id": "f7b54fef",
   "metadata": {},
   "outputs": [
    {
     "name": "stdout",
     "output_type": "stream",
     "text": [
      "[70000, 118287, 53542, 48823, 118287, 36500, 118287]\n"
     ]
    }
   ],
   "source": [
    "print([len(p) for p in train_paths])"
   ]
  },
  {
   "cell_type": "code",
   "execution_count": 41,
   "id": "f398d32c",
   "metadata": {},
   "outputs": [],
   "source": [
    "with open('training_paths.txt', 'wt') as f_out:\n",
    "    for p in all_p:\n",
    "        f_out.write(p.replace('\\n','')+'\\n')"
   ]
  },
  {
   "cell_type": "code",
   "execution_count": 42,
   "id": "d790cfd8",
   "metadata": {},
   "outputs": [],
   "source": [
    "!gzip training_paths.txt"
   ]
  },
  {
   "cell_type": "code",
   "execution_count": 44,
   "id": "e8e0992d",
   "metadata": {},
   "outputs": [],
   "source": []
  },
  {
   "cell_type": "code",
   "execution_count": 45,
   "id": "a1c6a9f8",
   "metadata": {},
   "outputs": [
    {
     "data": {
      "text/plain": [
       "(563726, 563726)"
      ]
     },
     "execution_count": 45,
     "metadata": {},
     "output_type": "execute_result"
    }
   ],
   "source": [
    "len(all_p), len(all_p2)"
   ]
  },
  {
   "cell_type": "code",
   "execution_count": 50,
   "id": "8a789d41",
   "metadata": {},
   "outputs": [],
   "source": [
    "for i in range(len(all_p)):\n",
    "    if all_p[i].replace('\\n','') != all_p2[i].replace('\\n',''):\n",
    "        print(i,all_p[i], all_p2[i])\n",
    "        break"
   ]
  },
  {
   "cell_type": "code",
   "execution_count": 5,
   "id": "4532f28e",
   "metadata": {},
   "outputs": [],
   "source": [
    "#normalize sets and take smaller subsample\n",
    "all_b = []\n",
    "for t in train_paths:\n",
    "    t0 = t[:]\n",
    "    random.shuffle(t0)\n",
    "    all_b += t0[:16384]"
   ]
  },
  {
   "cell_type": "code",
   "execution_count": 7,
   "id": "a2fac713",
   "metadata": {},
   "outputs": [],
   "source": [
    "with open('ordered_paths_normalized.txt', 'wt') as f_out:\n",
    "    for p in all_b:\n",
    "        f_out.write(p.replace('\\n','')+'\\n')"
   ]
  },
  {
   "cell_type": "code",
   "execution_count": 8,
   "id": "d6f48cc6",
   "metadata": {},
   "outputs": [],
   "source": [
    "!gzip ordered_paths_normalized.txt"
   ]
  },
  {
   "cell_type": "code",
   "execution_count": 43,
   "id": "0fb0a121",
   "metadata": {},
   "outputs": [],
   "source": [
    "!gunzip ordered_paths_normalized.txt.gz"
   ]
  },
  {
   "cell_type": "code",
   "execution_count": null,
   "id": "b3a1ba23",
   "metadata": {},
   "outputs": [],
   "source": [
    "with open('ordered_paths_normalized.txt', 'r') as f_out:\n",
    "    all_p2 = [p for p in f_out]"
   ]
  }
 ],
 "metadata": {
  "kernelspec": {
   "display_name": "Python 3",
   "language": "python",
   "name": "python3"
  },
  "language_info": {
   "codemirror_mode": {
    "name": "ipython",
    "version": 3
   },
   "file_extension": ".py",
   "mimetype": "text/x-python",
   "name": "python",
   "nbconvert_exporter": "python",
   "pygments_lexer": "ipython3",
   "version": "3.7.7"
  }
 },
 "nbformat": 4,
 "nbformat_minor": 5
}
