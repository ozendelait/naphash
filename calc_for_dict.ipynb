{
 "cells": [
  {
   "cell_type": "markdown",
   "id": "87a11275",
   "metadata": {},
   "source": [
    "Preparing \"worst\" and \"best\" subsets per category in dataset bases on hash distance metrics"
   ]
  },
  {
   "cell_type": "code",
   "execution_count": 1,
   "id": "24f1436c",
   "metadata": {},
   "outputs": [],
   "source": [
    "import numpy as np\n",
    "#see create_training_paths for creation of the precalculated dcts; \n",
    "#due to copyright these may present an issue when uploaded/clash with the open license -> you have to repeat the script yourself\n",
    "cifar10_hashes = np.load('cifar10_hashes.npz')"
   ]
  },
  {
   "cell_type": "code",
   "execution_count": 2,
   "id": "5e8544f6",
   "metadata": {},
   "outputs": [],
   "source": [
    "hashes, paths = cifar10_hashes['hashes'], cifar10_hashes['paths']"
   ]
  },
  {
   "cell_type": "code",
   "execution_count": 3,
   "id": "6ce97f00",
   "metadata": {},
   "outputs": [],
   "source": [
    "from cifar10_trainer import get_cat\n",
    "idx = {}\n",
    "for i,p in enumerate(paths[10000:]):\n",
    "    idx.setdefault(get_cat(p),[]).append(i+10000)\n",
    "idx = {k:[min(v),max(v)] for k,v in idx.items()}"
   ]
  },
  {
   "cell_type": "code",
   "execution_count": 4,
   "id": "f0d6fa5e",
   "metadata": {},
   "outputs": [
    {
     "data": {
      "text/plain": [
       "{'airplane': [10000, 14999],\n",
       " 'automobile': [15000, 19999],\n",
       " 'bird': [20000, 24999],\n",
       " 'cat': [25000, 29999],\n",
       " 'deer': [30000, 34999],\n",
       " 'dog': [35000, 39999],\n",
       " 'frog': [40000, 44999],\n",
       " 'horse': [45000, 49999],\n",
       " 'ship': [50000, 54999],\n",
       " 'truck': [55000, 59999]}"
      ]
     },
     "execution_count": 4,
     "metadata": {},
     "output_type": "execute_result"
    }
   ],
   "source": [
    "idx"
   ]
  },
  {
   "cell_type": "code",
   "execution_count": null,
   "id": "25f6cedc",
   "metadata": {},
   "outputs": [],
   "source": []
  }
 ],
 "metadata": {
  "kernelspec": {
   "display_name": "Python 3",
   "language": "python",
   "name": "python3"
  },
  "language_info": {
   "codemirror_mode": {
    "name": "ipython",
    "version": 3
   },
   "file_extension": ".py",
   "mimetype": "text/x-python",
   "name": "python",
   "nbconvert_exporter": "python",
   "pygments_lexer": "ipython3",
   "version": "3.7.7"
  }
 },
 "nbformat": 4,
 "nbformat_minor": 5
}
