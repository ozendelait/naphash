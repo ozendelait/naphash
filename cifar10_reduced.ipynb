{
 "cells": [
  {
   "cell_type": "code",
   "execution_count": 1,
   "id": "e02b4300",
   "metadata": {},
   "outputs": [
    {
     "name": "stdout",
     "output_type": "stream",
     "text": [
      "Loaded:  50000 10000\n"
     ]
    }
   ],
   "source": [
    "#see cifar10_trainer.py for training parameters\n",
    "from cifar10_trainer import train_cifar10, files_in_subdirs, reduce_to, get_cat\n",
    "cifar10_train = files_in_subdirs('./cifar10/train')\n",
    "cifar10_val = files_in_subdirs('./cifar10/test')\n",
    "cifar10_paths = cifar10_val+cifar10_train\n",
    "print(\"Loaded: \",len(cifar10_train), len(cifar10_val))"
   ]
  },
  {
   "cell_type": "code",
   "execution_count": 2,
   "id": "b3cc6b9e",
   "metadata": {},
   "outputs": [
    {
     "name": "stdout",
     "output_type": "stream",
     "text": [
      "Maximum:  Counter({'truck': 5000, 'bird': 5000, 'cat': 5000, 'automobile': 5000, 'airplane': 5000, 'horse': 5000, 'dog': 5000, 'frog': 5000, 'ship': 5000, 'deer': 5000})\n",
      "123:  Counter({'truck': 123, 'bird': 123, 'cat': 123, 'automobile': 123, 'airplane': 123, 'horse': 123, 'dog': 123, 'frog': 123, 'ship': 123, 'deer': 123})\n",
      "123:  Counter({'dog': 1000, 'truck': 123, 'bird': 123, 'cat': 123, 'automobile': 123, 'airplane': 123, 'horse': 123, 'frog': 123, 'ship': 123, 'deer': 123})\n"
     ]
    }
   ],
   "source": [
    "#check correct reduction of labels:\n",
    "from collections import Counter\n",
    "print(\"Maximum: \",Counter([get_cat(p) for p in reduce_to(cifar10_paths,7000)][10000:]))\n",
    "print(\"123: \",Counter([get_cat(p) for p in reduce_to(cifar10_paths,123)][10000:]))\n",
    "print(\"123: \",Counter([get_cat(p) for p in reduce_to(cifar10_paths,123,{'dog':1000})][10000:]))"
   ]
  },
  {
   "cell_type": "code",
   "execution_count": 4,
   "id": "806babe3",
   "metadata": {},
   "outputs": [
    {
     "data": {
      "application/vnd.jupyter.widget-view+json": {
       "model_id": "9a547bc3dfbf4423abc648036078d822",
       "version_major": 2,
       "version_minor": 0
      },
      "text/plain": [
       "HBox(children=(FloatProgress(value=0.0, max=14.0), HTML(value='')))"
      ]
     },
     "metadata": {},
     "output_type": "display_data"
    },
    {
     "name": "stdout",
     "output_type": "stream",
     "text": [
      "Result 3+3 epochs with 4500 samples per class: {'truck': 0.957, 'bird': 0.95, 'cat': 0.898, 'automobile': 0.97, 'airplane': 0.962, 'horse': 0.967, 'dog': 0.899, 'frog': 0.975, 'ship': 0.973, 'deer': 0.968}\n",
      "Result 3+3 epochs with 4000 samples per class: {'truck': 0.963, 'bird': 0.944, 'cat': 0.882, 'automobile': 0.972, 'airplane': 0.968, 'horse': 0.969, 'dog': 0.896, 'frog': 0.975, 'ship': 0.974, 'deer': 0.962}\n",
      "Result 3+3 epochs with 3500 samples per class: {'truck': 0.962, 'bird': 0.934, 'cat': 0.876, 'automobile': 0.975, 'airplane': 0.969, 'horse': 0.966, 'dog': 0.89, 'frog': 0.975, 'ship': 0.972, 'deer': 0.963}\n",
      "Result 3+3 epochs with 3000 samples per class: {'truck': 0.964, 'bird': 0.94, 'cat': 0.867, 'automobile': 0.962, 'airplane': 0.962, 'horse': 0.964, 'dog': 0.883, 'frog': 0.966, 'ship': 0.975, 'deer': 0.958}\n",
      "Result 3+3 epochs with 2500 samples per class: {'truck': 0.952, 'bird': 0.928, 'cat': 0.836, 'automobile': 0.966, 'airplane': 0.942, 'horse': 0.961, 'dog': 0.903, 'frog': 0.969, 'ship': 0.974, 'deer': 0.955}\n",
      "Result 3+3 epochs with 2000 samples per class: {'truck': 0.957, 'bird': 0.92, 'cat': 0.82, 'automobile': 0.964, 'airplane': 0.955, 'horse': 0.956, 'dog': 0.884, 'frog': 0.962, 'ship': 0.967, 'deer': 0.949}\n",
      "Result 3+3 epochs with 1500 samples per class: {'truck': 0.968, 'bird': 0.899, 'cat': 0.793, 'automobile': 0.955, 'airplane': 0.952, 'horse': 0.946, 'dog': 0.897, 'frog': 0.944, 'ship': 0.951, 'deer': 0.913}\n",
      "Result 3+3 epochs with 1000 samples per class: {'truck': 0.938, 'bird': 0.887, 'cat': 0.801, 'automobile': 0.94, 'airplane': 0.927, 'horse': 0.895, 'dog': 0.835, 'frog': 0.957, 'ship': 0.958, 'deer': 0.932}\n",
      "Result 3+3 epochs with 750 samples per class: {'truck': 0.886, 'bird': 0.866, 'cat': 0.817, 'automobile': 0.972, 'airplane': 0.915, 'horse': 0.906, 'dog': 0.738, 'frog': 0.918, 'ship': 0.942, 'deer': 0.904}\n",
      "Result 3+3 epochs with 500 samples per class: {'truck': 0.8, 'bird': 0.877, 'cat': 0.664, 'automobile': 0.97, 'airplane': 0.926, 'horse': 0.92, 'dog': 0.7, 'frog': 0.907, 'ship': 0.856, 'deer': 0.822}\n",
      "Result 3+3 epochs with 250 samples per class: {'truck': 0.887, 'bird': 0.562, 'cat': 0.293, 'automobile': 0.924, 'airplane': 0.745, 'horse': 0.841, 'dog': 0.798, 'frog': 0.713, 'ship': 0.913, 'deer': 0.186}\n",
      "Result 3+3 epochs with 100 samples per class: {'truck': 0.925, 'bird': 0.127, 'cat': 0.005, 'automobile': 0.197, 'airplane': 0.391, 'horse': 0.667, 'dog': 0.985, 'frog': 0.185, 'ship': 0.541, 'deer': 0.109}\n",
      "Result 3+3 epochs with 50 samples per class: {'truck': 0.544, 'bird': 0.171, 'cat': 0.024, 'automobile': 0.024, 'airplane': 0.001, 'horse': 0.068, 'dog': 0.001, 'frog': 0.089, 'ship': 0.069, 'deer': 0.0}\n",
      "Result 3+3 epochs with 10 samples per class: {'truck': 0.0, 'bird': 0.078, 'cat': 0.0, 'automobile': 0.009, 'airplane': 0.076, 'horse': 0.032, 'dog': 0.0, 'frog': 0.663, 'ship': 0.0, 'deer': 0.0}\n",
      "\n"
     ]
    }
   ],
   "source": [
    "from tqdm.notebook import tqdm\n",
    "import numpy as np\n",
    "#testing with 3 epochs\n",
    "test_num = [4500, 4000, 3500, 3000, 2500, 2000, 1500, 1000, 750, 500, 250, 100, 50, 10]\n",
    "min_acc = []\n",
    "mean_acc = []\n",
    "for max_num in tqdm(test_num):\n",
    "    reduced_subset = reduce_to(cifar10_paths,max_num)\n",
    "    tta_acc_example3 = [train_cifar10(reduced_subset, verbose=False, epochs_per_pass=3) for _ in range(1)]\n",
    "    min_acc.append(np.min(list(tta_acc_example3[0].values())))\n",
    "    mean_acc.append(np.mean(list(tta_acc_example3[0].values())))\n",
    "    print(\"Result 3+3 epochs with %i samples per class:\"%max_num, tta_acc_example3[0])"
   ]
  },
  {
   "cell_type": "code",
   "execution_count": 5,
   "id": "bfdb58ce",
   "metadata": {},
   "outputs": [
    {
     "data": {
      "text/plain": [
       "[<matplotlib.lines.Line2D at 0x7f1d53299ad0>]"
      ]
     },
     "execution_count": 5,
     "metadata": {},
     "output_type": "execute_result"
    },
    {
     "data": {
      "image/png": "[encoded data removed]",
      "text/plain": [
       "<Figure size 432x288 with 1 Axes>"
      ]
     },
     "metadata": {
      "needs_background": "light"
     },
     "output_type": "display_data"
    }
   ],
   "source": [
    "import matplotlib.pyplot as plt\n",
    "plt.plot(test_num, min_acc, label = \"min_acc\")\n",
    "plt.plot(test_num, mean_acc, label = \"mean_acc\")"
   ]
  }
 ],
 "metadata": {
  "kernelspec": {
   "display_name": "Python 3",
   "language": "python",
   "name": "python3"
  },
  "language_info": {
   "codemirror_mode": {
    "name": "ipython",
    "version": 3
   },
   "file_extension": ".py",
   "mimetype": "text/x-python",
   "name": "python",
   "nbconvert_exporter": "python",
   "pygments_lexer": "ipython3",
   "version": "3.7.7"
  }
 },
 "nbformat": 4,
 "nbformat_minor": 5
}
